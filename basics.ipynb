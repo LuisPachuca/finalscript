{
 "cells": [
  {
   "cell_type": "code",
   "execution_count": 16,
   "metadata": {},
   "outputs": [
    {
     "name": "stdout",
     "output_type": "stream",
     "text": [
      "Hola Juanelo!!\n"
     ]
    }
   ],
   "source": [
    "print('Hola Juanelo!!')"
   ]
  },
  {
   "cell_type": "code",
   "execution_count": 17,
   "metadata": {},
   "outputs": [],
   "source": [
    "age = 31\n",
    "temperature = 38.5\n",
    "name = \"Profe python\"\n",
    "is_cool = True\n",
    "numbers = [1, 2, 3, 4, 5, 6]\n",
    "tuplas = (\"Uno\",\"Dos\",\"Tres\")\n",
    "series = set([1, 2, 3, 4, 5, 6])"
   ]
  },
  {
   "cell_type": "code",
   "execution_count": 18,
   "metadata": {},
   "outputs": [
    {
     "name": "stdout",
     "output_type": "stream",
     "text": [
      "<class 'int'>\n",
      "<class 'float'>\n",
      "<class 'str'>\n",
      "<class 'bool'>\n",
      "<class 'list'>\n",
      "{1, 2, 3, 4, 5, 6}\n"
     ]
    }
   ],
   "source": [
    "print (type(age))\n",
    "print (type(temperature))\n",
    "print (type(name))\n",
    "print (type(is_cool))\n",
    "print (type(numbers))\n",
    "print (series)"
   ]
  },
  {
   "attachments": {},
   "cell_type": "markdown",
   "metadata": {},
   "source": [
    "### Operadores\n",
    "\n",
    "1. \\+\n",
    "2. \\-\n",
    "3. \\*\n",
    "4. \\/\n",
    "5. \\//\n",
    "6. \\%"
   ]
  },
  {
   "cell_type": "code",
   "execution_count": 19,
   "metadata": {},
   "outputs": [
    {
     "name": "stdout",
     "output_type": "stream",
     "text": [
      "0\n"
     ]
    }
   ],
   "source": [
    "print(6%2)"
   ]
  },
  {
   "cell_type": "code",
   "execution_count": 21,
   "metadata": {},
   "outputs": [
    {
     "name": "stdout",
     "output_type": "stream",
     "text": [
      "6.25\n"
     ]
    }
   ],
   "source": [
    "print(25/4)"
   ]
  },
  {
   "cell_type": "code",
   "execution_count": 22,
   "metadata": {},
   "outputs": [
    {
     "name": "stdout",
     "output_type": "stream",
     "text": [
      "6\n"
     ]
    }
   ],
   "source": [
    "print(25//4)"
   ]
  },
  {
   "cell_type": "code",
   "execution_count": 23,
   "metadata": {},
   "outputs": [
    {
     "name": "stdout",
     "output_type": "stream",
     "text": [
      "Wohooo! Wohooo! Wohooo! Wohooo! Wohooo! \n"
     ]
    }
   ],
   "source": [
    "print('Wohooo! ' * 5)"
   ]
  },
  {
   "cell_type": "code",
   "execution_count": 24,
   "metadata": {},
   "outputs": [
    {
     "name": "stdout",
     "output_type": "stream",
     "text": [
      "Aviso por alta temperatura\n"
     ]
    }
   ],
   "source": [
    "temperature = 40\n",
    "\n",
    "if temperature > 35:\n",
    "    print('Aviso por alta temperatura')"
   ]
  },
  {
   "cell_type": "code",
   "execution_count": 30,
   "metadata": {},
   "outputs": [
    {
     "name": "stdout",
     "output_type": "stream",
     "text": [
      "Eres mayor de edad\n"
     ]
    }
   ],
   "source": [
    "age = int(input(\"Dame tu edad: \"))\n",
    "\n",
    "def isAdult(age):\n",
    "    if age > 18:\n",
    "        print(\"Eres mayor de edad\")\n",
    "    else:\n",
    "        print(\"Eres menor de edad\")\n",
    "\n",
    "isAdult(age)"
   ]
  },
  {
   "attachments": {},
   "cell_type": "markdown",
   "metadata": {},
   "source": [
    "## Guess a number please\n",
    "\n",
    "1. Elegir un numero random (PC).\n",
    "2. Yo escribo un numero.\n",
    "3. Si el numero ingresado es mas alto le menciono que esta frio.\n",
    "3. Si el numero ingresado es mas bajo le menciono que esta caliente."
   ]
  },
  {
   "cell_type": "code",
   "execution_count": 44,
   "metadata": {},
   "outputs": [
    {
     "name": "stdout",
     "output_type": "stream",
     "text": [
      "Te fuiste muy abajo.\n",
      "Te fuiste muy abajo.\n",
      "Te fuiste muy abajo.\n",
      "Te fuiste muy abajo.\n",
      "Te fuiste muy arriba.\n",
      "Te fuiste muy abajo.\n",
      "Te fuiste muy abajo.\n",
      "Te fuiste muy abajo.\n",
      "Te fuiste muy abajo.\n",
      "El numero era: 68\n"
     ]
    }
   ],
   "source": [
    "import random \n",
    "\n",
    "def guess(top):\n",
    "    random_number = random.randint(1, top)\n",
    "    #print(f\"El numero al azar es: {random_number}\")\n",
    "    guess = 0\n",
    "    while guess !=random_number:\n",
    "        guess = int(input(\"Avidina el numero: \"))\n",
    "        if guess > random_number:\n",
    "            print(\"Te fuiste muy arriba.\")\n",
    "        elif guess < random_number:\n",
    "            print(\"Te fuiste muy abajo.\")\n",
    "\n",
    "    print(f\"El numero era: {guess}\")\n",
    "    \n",
    "guess(100)"
   ]
  },
  {
   "attachments": {},
   "cell_type": "markdown",
   "metadata": {},
   "source": [
    "### Consumir una API con python (Primera parte)\n",
    "\n",
    "Libreria requests"
   ]
  },
  {
   "cell_type": "code",
   "execution_count": 49,
   "metadata": {},
   "outputs": [
    {
     "name": "stdout",
     "output_type": "stream",
     "text": [
      "\n",
      "<!DOCTYPE html>\n",
      "<html lang=\"en\">\n",
      "<head>\n",
      "<meta charset=\"utf-8\" />\n",
      "<meta name=\"viewport\" content=\"width=device-width, initial-scale=1, shrink-to-fit=no\" />\n",
      "<link rel=\"stylesheet\" href=\"/style.css\" />\n",
      "<link rel=\"stylesheet\" href=\"https://cdnjs.cloudflare.com/ajax/libs/prism/1.21.0/themes/prism-tomorrow.min.css\" />\n",
      "<title>JSONPlaceholder - Free Fake REST API</title>\n",
      "\n",
      "<script async src=\"https://www.googletagmanager.com/gtag/js?id=G-E3C3GCQVBN\"></script>\n",
      "<script>\n",
      "      window.dataLayer = window.dataLayer || []\n",
      "      function gtag() {\n",
      "        dataLayer.push(arguments)\n",
      "      }\n",
      "      gtag('js', new Date())\n",
      "\n",
      "      gtag('config', 'G-E3C3GCQVBN')\n",
      "    </script>\n",
      "<script defer data-domain=\"jsonplaceholder.typicode.com\" src=\"https://plausible.io/js/script.js\"></script>\n",
      "</head>\n",
      "<body class=\"px-2\">\n",
      "<header class=\"\n",
      "        container\n",
      "        mx-auto\n",
      "        max-w-4xl\n",
      "        flex flex-col\n",
      "        md:flex-row\n",
      "        justify-between\n",
      "        py-one\n",
      "        mb-three\n",
      "      \">\n",
      "<h1>\n",
      "<a href=\"/\" class=\"font-bold no-underline\">JSONPlaceholder</a>\n",
      "</h1>\n",
      "<nav>\n",
      "<ul class=\"flex\">\n",
      "<li><a href=\"/guide\" class=\"mr-4 no-underline\">Guide</a></li>\n",
      "<li>\n",
      "<a href=\"https://github.com/sponsors/typicode\" class=\"mr-4 no-underline\">Sponsor this project</a\n",
      "            >\n",
      "</li>\n",
      "<li>\n",
      "<a href=\"https://blog.typicode.com\" class=\"mr-4 no-underline\">Blog</a\n",
      "            >\n",
      "</li>\n",
      "<li>\n",
      "<a href=\"https://my-json-server.typicode.com\" class=\"no-underline\">My JSON Server</a\n",
      "            >\n",
      "</li>\n",
      "</ul>\n",
      "</nav>\n",
      "</header>\n",
      "<div>\n",
      "\n",
      "<section id=\"hero\" class=\"-mt-three py-36 mb-six -mx-2\">\n",
      "<div class=\"container mx-auto max-w-4xl\">\n",
      "<span class=\"text-6xl bold\">{JSON} Placeholder</span>\n",
      "<h1 class=\"mt-two text-lg\">Free fake API for testing and prototyping.</h1>\n",
      "<p class=\"mb-one text-lg\">\n",
      "Powered by\n",
      "<a href=\"https://github.com/typicode/json-server\">JSON Server</a>\n",
      "+\n",
      "<a href=\"https://github.com/typicode/lowdb\">LowDB</a>. Tested with\n",
      "<a href=\"https://github.com/typicode/xv\">XV</a>.\n",
      "</p>\n",
      "<p><b>Serving ~2 billion requests each month</b>.</p>\n",
      "</div>\n",
      "</section>\n",
      "\n",
      "<section class=\"container mx-auto max-w-4xl mb-six\">\n",
      "<h2 class=\"text-2xl mb-one\">Sponsors</h2>\n",
      "<p class=\"mb-two\">\n",
      "JSONPlaceholder is supported by the following companies and\n",
      "<a href=\"https://github.com/sponsors/typicode\">Sponsors</a> on GitHub, check\n",
      "them out 💖\n",
      "</p>\n",
      "<p>\n",
      "<a href=\"https://tryretool.com/?utm_source=sponsor&utm_campaign=typicode\" target=\"_blank\">\n",
      "<img src=\"https://i.imgur.com/IBItATn.png\" class=\"h-three mb-two\" />\n",
      "</a>\n",
      "</p>\n",
      "<p>\n",
      "<a href=\"https://mockend.com\" target=\"_blank\">\n",
      "<img src=\"mockend.svg\" class=\"h-three mb-two\" />\n",
      "</a>\n",
      "</p>\n",
      "<p class=\"my-two\">\n",
      "<a href=\"https://github.com/sponsors/typicode\">Your company logo here</a>\n",
      "</p>\n",
      "</section>\n",
      "\n",
      "<section class=\"container mx-auto max-w-4xl mb-four\">\n",
      "<h2 class=\"text-2xl mb-one\">Try it</h2>\n",
      "<p>Run this code here, in a console or from any site:</p>\n",
      "<pre><code id=\"example\" class=\"language-javascript\">fetch('https://jsonplaceholder.typicode.com/todos/1')\n",
      "      .then(response => response.json())\n",
      "      .then(json => console.log(json))</code></pre>\n",
      "<button id=\"run-button\" class=\"\n",
      "      bg-green-500\n",
      "      hover:bg-green-700\n",
      "      text-white\n",
      "      font-bold\n",
      "      py-quarter\n",
      "      my-quarter\n",
      "      px-4\n",
      "      rounded\n",
      "    \">\n",
      "Run script\n",
      "</button>\n",
      "<pre><code id=\"result\" class=\"language-javascript\">{}</code></pre>\n",
      "<p id=\"run-message\" class=\"invisible\">\n",
      "Congrats you've made your first call to JSONPlaceholder! 😃 🎉\n",
      "</p>\n",
      "<script async type=\"text/javascript\" src=\"//cdn.carbonads.com/carbon.js?serve=CK7IV2JL&placement=jsonplaceholdertypicodecom\" id=\"_carbonads_js\"></script>\n",
      "<div class=\"horizontal flat\" data-ea-publisher=\"jsonplaceholdertypicodecom\" data-ea-style=\"stickybox\" data-ea-keywords=\"javascript|typescript|python|ruby|swift|react|vue|web|testing|frontend|front-end|backend|back-end\" data-ea-manual=\"true\"></div>\n",
      "</section>\n",
      "<main class=\"container mx-auto max-w-4xl\"><h2>When to use</h2>\n",
      "<p>JSONPlaceholder is a free online REST API that you can use <strong>whenever you need some fake data</strong>. It can be in a README on GitHub, for a demo on CodeSandbox, in code examples on Stack Overflow, ...or simply to test things locally.</p>\n",
      "<h2>Resources</h2>\n",
      "<p>JSONPlaceholder comes with a set of 6 common resources:</p>\n",
      "<table>\n",
      "<thead>\n",
      "<tr>\n",
      "<th></th>\n",
      "<th></th>\n",
      "</tr>\n",
      "</thead>\n",
      "<tbody>\n",
      "<tr>\n",
      "<td><a href=\"/posts\">/posts</a></td>\n",
      "<td>100 posts</td>\n",
      "</tr>\n",
      "<tr>\n",
      "<td><a href=\"/comments\">/comments</a></td>\n",
      "<td>500 comments</td>\n",
      "</tr>\n",
      "<tr>\n",
      "<td><a href=\"/albums\">/albums</a></td>\n",
      "<td>100 albums</td>\n",
      "</tr>\n",
      "<tr>\n",
      "<td><a href=\"/photos\">/photos</a></td>\n",
      "<td>5000 photos</td>\n",
      "</tr>\n",
      "<tr>\n",
      "<td><a href=\"/todos\">/todos</a></td>\n",
      "<td>200 todos</td>\n",
      "</tr>\n",
      "<tr>\n",
      "<td><a href=\"/users\">/users</a></td>\n",
      "<td>10 users</td>\n",
      "</tr>\n",
      "</tbody>\n",
      "</table>\n",
      "<p><strong>Note</strong>: resources have relations. For example: posts have many comments, albums have many photos, ... see <a href=\"/guide\">guide</a> for the full list.</p>\n",
      "<h2>Routes</h2>\n",
      "<p>All HTTP methods are supported. You can use http or https for your requests.</p>\n",
      "<table>\n",
      "<thead>\n",
      "<tr>\n",
      "<th></th>\n",
      "<th></th>\n",
      "</tr>\n",
      "</thead>\n",
      "<tbody>\n",
      "<tr>\n",
      "<td>GET</td>\n",
      "<td><a href=\"/posts\">/posts</a></td>\n",
      "</tr>\n",
      "<tr>\n",
      "<td>GET</td>\n",
      "<td><a href=\"/posts/1\">/posts/1</a></td>\n",
      "</tr>\n",
      "<tr>\n",
      "<td>GET</td>\n",
      "<td><a href=\"/posts/1/comments\">/posts/1/comments</a></td>\n",
      "</tr>\n",
      "<tr>\n",
      "<td>GET</td>\n",
      "<td><a href=\"/comments?postId=1\">/comments?postId=1</a></td>\n",
      "</tr>\n",
      "<tr>\n",
      "<td>POST</td>\n",
      "<td>/posts</td>\n",
      "</tr>\n",
      "<tr>\n",
      "<td>PUT</td>\n",
      "<td>/posts/1</td>\n",
      "</tr>\n",
      "<tr>\n",
      "<td>PATCH</td>\n",
      "<td>/posts/1</td>\n",
      "</tr>\n",
      "<tr>\n",
      "<td>DELETE</td>\n",
      "<td>/posts/1</td>\n",
      "</tr>\n",
      "</tbody>\n",
      "</table>\n",
      "<p><strong>Note</strong>: see <a href=\"/guide\">guide</a> for usage examples.</p>\n",
      "<h2>Use your own data</h2>\n",
      "<p>With our sponsor <a href=\"https://mockend.com\">Mockend</a> and a simple GitHub repo, you can have your own fake online REST server in seconds.</p>\n",
      "</main>\n",
      "<script>\n",
      "  // Use http or https based on location.protocol\n",
      "  var example = document.getElementById('example')\n",
      "  example.textContent = example.textContent.replace('http:', location.protocol)\n",
      "\n",
      "  // Highlight result element\n",
      "  var result = document.getElementById('result')\n",
      "\n",
      "  // Run example\n",
      "  var runButton = document.getElementById('run-button')\n",
      "  runButton.onclick = function () {\n",
      "    var root = location.protocol + '//jsonplaceholder.typicode.com'\n",
      "    var runMessage = document.getElementById('run-message')\n",
      "\n",
      "    fetch('https://jsonplaceholder.typicode.com/todos/1')\n",
      "      .then((response) => response.json())\n",
      "      .then((json) => {\n",
      "        var str = JSON.stringify(json, null, '  ')\n",
      "\n",
      "        // Format result\n",
      "        result.innerHTML = Prism.highlight(\n",
      "          str,\n",
      "          Prism.languages.javascript,\n",
      "          'javascript',\n",
      "        )\n",
      "\n",
      "        runMessage.className = ''\n",
      "      })\n",
      "  }\n",
      "</script>\n",
      "</div>\n",
      "\n",
      "<footer class=\"container mx-auto max-w-4xl mt-four\">\n",
      "<div class=\"mb-one\">\n",
      "<a href=\"https://github.com/users/typicode/sponsorship\">\n",
      "<strong>You can sponsor this project (and others) on GitHub</strong>\n",
      "</a>\n",
      "</div>\n",
      "<div class=\"mb-one\">\n",
      "Coded and maintained with ❤️ by\n",
      "<a href=\"https://github.com/typicode\">typicode</a> © 2022\n",
      "</div>\n",
      "</footer>\n",
      "<script src=\"https://cdnjs.cloudflare.com/ajax/libs/prism/1.21.0/prism.min.js\"></script>\n",
      "<script src=\"/script.js\"></script>\n",
      "<script>(function(){var js = \"window['__CF$cv$params']={r:'7cba58b74da70fe0',m:'uWGrex.CTjk.tuR6xCuEJu0LAVxcVmoDKBZzS3VSt.Y-1684813950-0-AevkKL+FL5jBmLxiT6efIy27QJHmr4UEhOZn3dPDNbdG',u:'/cdn-cgi/challenge-platform/h/g'};_cpo=document.createElement('script');_cpo.nonce='',_cpo.src='/cdn-cgi/challenge-platform/scripts/invisible.js',document.getElementsByTagName('head')[0].appendChild(_cpo);\";var _0xh = document.createElement('iframe');_0xh.height = 1;_0xh.width = 1;_0xh.style.position = 'absolute';_0xh.style.top = 0;_0xh.style.left = 0;_0xh.style.border = 'none';_0xh.style.visibility = 'hidden';document.body.appendChild(_0xh);function handler() {var _0xi = _0xh.contentDocument || _0xh.contentWindow.document;if (_0xi) {var _0xj = _0xi.createElement('script');_0xj.nonce = '';_0xj.innerHTML = js;_0xi.getElementsByTagName('head')[0].appendChild(_0xj);}}if (document.readyState !== 'loading') {handler();} else if (window.addEventListener) {document.addEventListener('DOMContentLoaded', handler);} else {var prev = document.onreadystatechange || function () {};document.onreadystatechange = function (e) {prev(e);if (document.readyState !== 'loading') {document.onreadystatechange = prev;handler();}};}})();</script><script defer src=\"https://static.cloudflareinsights.com/beacon.min.js/v52afc6f149f6479b8c77fa569edb01181681764108816\" integrity=\"sha512-jGCTpDpBAYDGNYR5ztKt4BQPGef1P0giN6ZGVUi835kFF88FOmmn8jBQWNgrNd8g/Yu421NdgWhwQoaOPFflDw==\" data-cf-beacon='{\"rayId\":\"7cba58b74da70fe0\",\"version\":\"2023.4.0\",\"b\":1,\"token\":\"2f059cbf58a24e59854ee0884c97b166\",\"si\":100}' crossorigin=\"anonymous\"></script>\n",
      "</body>\n",
      "</html>\n",
      "\n"
     ]
    }
   ],
   "source": [
    "import requests\n",
    "x = requests.get('https://jsonplaceholder.typicode.com')\n",
    "print (x.text)"
   ]
  }
 ],
 "metadata": {
  "kernelspec": {
   "display_name": "Python 3 (ipykernel)",
   "language": "python",
   "name": "python3"
  },
  "language_info": {
   "codemirror_mode": {
    "name": "ipython",
    "version": 3
   },
   "file_extension": ".py",
   "mimetype": "text/x-python",
   "name": "python",
   "nbconvert_exporter": "python",
   "pygments_lexer": "ipython3",
   "version": "3.10.10"
  },
  "orig_nbformat": 4
 },
 "nbformat": 4,
 "nbformat_minor": 2
}
