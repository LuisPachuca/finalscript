{
 "cells": [
  {
   "cell_type": "code",
   "execution_count": null,
   "metadata": {},
   "outputs": [],
   "source": [
    "print('Hola Juanelo!!')"
   ]
  },
  {
   "cell_type": "code",
   "execution_count": null,
   "metadata": {},
   "outputs": [],
   "source": [
    "age = 31\n",
    "temperature = 38.5\n",
    "name = \"Profe python\"\n",
    "is_cool = True\n",
    "numbers = [1, 2, 3, 4, 5, 6]\n",
    "tuplas = (\"Uno\",\"Dos\",\"Tres\")\n",
    "series = set([1, 2, 3, 4, 5, 6])"
   ]
  },
  {
   "cell_type": "code",
   "execution_count": null,
   "metadata": {},
   "outputs": [],
   "source": [
    "print (type(age))\n",
    "print (type(temperature))\n",
    "print (type(name))\n",
    "print (type(is_cool))\n",
    "print (type(numbers))\n",
    "print (series)"
   ]
  },
  {
   "attachments": {},
   "cell_type": "markdown",
   "metadata": {},
   "source": [
    "### Operadores\n",
    "\n",
    "1. \\+\n",
    "2. \\-\n",
    "3. \\*\n",
    "4. \\/\n",
    "5. \\//\n",
    "6. \\%"
   ]
  },
  {
   "cell_type": "code",
   "execution_count": null,
   "metadata": {},
   "outputs": [],
   "source": [
    "print(6%2)"
   ]
  },
  {
   "cell_type": "code",
   "execution_count": null,
   "metadata": {},
   "outputs": [],
   "source": [
    "print(25/4)"
   ]
  },
  {
   "cell_type": "code",
   "execution_count": null,
   "metadata": {},
   "outputs": [],
   "source": [
    "print(25//4)"
   ]
  },
  {
   "cell_type": "code",
   "execution_count": null,
   "metadata": {},
   "outputs": [],
   "source": [
    "print('Wohooo! ' * 5)"
   ]
  },
  {
   "cell_type": "code",
   "execution_count": null,
   "metadata": {},
   "outputs": [],
   "source": [
    "temperature = 40\n",
    "\n",
    "if temperature > 35:\n",
    "    print('Aviso por alta temperatura')"
   ]
  },
  {
   "cell_type": "code",
   "execution_count": null,
   "metadata": {},
   "outputs": [],
   "source": [
    "age = int(input(\"Dame tu edad: \"))\n",
    "\n",
    "def isAdult(age):\n",
    "    if age > 18:\n",
    "        print(\"Eres mayor de edad\")\n",
    "    else:\n",
    "        print(\"Eres menor de edad\")\n",
    "\n",
    "isAdult(age)"
   ]
  },
  {
   "attachments": {},
   "cell_type": "markdown",
   "metadata": {},
   "source": [
    "## Guess a number please\n",
    "\n",
    "1. Elegir un numero random (PC).\n",
    "2. Yo escribo un numero.\n",
    "3. Si el numero ingresado es mas alto le menciono que esta frio.\n",
    "3. Si el numero ingresado es mas bajo le menciono que esta caliente."
   ]
  },
  {
   "cell_type": "code",
   "execution_count": null,
   "metadata": {},
   "outputs": [],
   "source": [
    "import random \n",
    "\n",
    "def guess(top):\n",
    "    random_number = random.randint(1, top)\n",
    "    #print(f\"El numero al azar es: {random_number}\")\n",
    "    guess = 0\n",
    "    while guess !=random_number:\n",
    "        guess = int(input(\"Avidina el numero: \"))\n",
    "        if guess > random_number:\n",
    "            print(\"Te fuiste muy arriba.\")\n",
    "        elif guess < random_number:\n",
    "            print(\"Te fuiste muy abajo.\")\n",
    "\n",
    "    print(f\"El numero era: {guess}\")\n",
    "    \n",
    "guess(100)"
   ]
  },
  {
   "attachments": {},
   "cell_type": "markdown",
   "metadata": {},
   "source": [
    "### Consumir una API con python (Primera parte)\n",
    "\n",
    "Libreria requests"
   ]
  },
  {
   "cell_type": "code",
   "execution_count": null,
   "metadata": {},
   "outputs": [],
   "source": [
    "import requests\n",
    "x = requests.get('https://jsonplaceholder.typicode.com')\n",
    "print (x.text)"
   ]
  },
  {
   "cell_type": "code",
   "execution_count": 5,
   "metadata": {},
   "outputs": [
    {
     "name": "stdout",
     "output_type": "stream",
     "text": [
      "Piensa en un número del 1 al 100.\n",
      "¿Es el número 50 ?\n",
      "¿Es el número 25 ?\n",
      "¿Es el número 12 ?\n",
      "¿Es el número 6 ?\n",
      "¿Es el número 3 ?\n",
      "¿Es el número 1 ?\n",
      "¡Adiviné el número en 6  intentos.\n"
     ]
    }
   ],
   "source": [
    "def adivina_numero():\n",
    "    print(\"Piensa en un número del 1 al 100.\")\n",
    "    int(input(\"Ingrese un numero: \")) # Variable para almacenar dato ingresado\n",
    "   \n",
    "    limite_inferior = 1\n",
    "    limite_superior = 100\n",
    "    intentos = 0\n",
    "    respuestas = set()  # Almacenar las respuestas dadas\n",
    "\n",
    "    while True:\n",
    "        intentos += 1\n",
    "        numero_adivinado = (limite_inferior + limite_superior) // 2 # Se suman los limites y se divide entre 2 y el resultado es entero\n",
    "        \n",
    "        # If para verificar si el numero anterior fue ya mostrado.\n",
    "        if numero_adivinado in respuestas:\n",
    "            numero_adivinado = limite_inferior + 1\n",
    "        \n",
    "        print(\"¿Es el número\", numero_adivinado, \"?\")\n",
    "        respuestas.add(numero_adivinado)  # Se agrega la respuesta actual\n",
    "        \n",
    "        respuesta = input(\"Ingresa 's' si es correcto, 'm' si tu número es más pequeño o 'g' si es más grande: \")\n",
    "        \n",
    "        if respuesta.lower() == 's': # lower sirve para convertir todos los caracteres ingresados en minusculas.\n",
    "            print(\"¡Adiviné el número en\", intentos,\" intentos.\")\n",
    "            break\n",
    "        elif respuesta.lower() == 'm':\n",
    "            limite_superior = numero_adivinado - 1\n",
    "        elif respuesta.lower() == 'g':\n",
    "            limite_inferior = numero_adivinado + 1\n",
    "        else:\n",
    "            print(\"Respuesta inválida. Ingresa 's', 'm' o 'g'.\")\n",
    "        \n",
    "        if limite_inferior > limite_superior:\n",
    "            print(\"¡Ups! Parece que estás haciendo trampa.\")\n",
    "            break\n",
    "\n",
    "adivina_numero()"
   ]
  }
 ],
 "metadata": {
  "kernelspec": {
   "display_name": "Python 3 (ipykernel)",
   "language": "python",
   "name": "python3"
  },
  "language_info": {
   "codemirror_mode": {
    "name": "ipython",
    "version": 3
   },
   "file_extension": ".py",
   "mimetype": "text/x-python",
   "name": "python",
   "nbconvert_exporter": "python",
   "pygments_lexer": "ipython3",
   "version": "3.10.10"
  },
  "orig_nbformat": 4
 },
 "nbformat": 4,
 "nbformat_minor": 2
}
